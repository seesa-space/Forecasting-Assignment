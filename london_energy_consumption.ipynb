{
 "cells": [
  {
   "cell_type": "markdown",
   "metadata": {},
   "source": [
    "# Assignment - Time Series Analysis of London Energy Consumption"
   ]
  },
  {
   "cell_type": "markdown",
   "metadata": {},
   "source": [
    "KATE expects your code to define variables with specific names that correspond to certain things we are interested in.\n",
    "\n",
    "KATE will run your notebook from top to bottom and check the latest value of those variables, so make sure you don't overwrite them.\n",
    "\n",
    "* Remember to uncomment the line assigning the variable to your answer and don't change the variable or function names.\n",
    "* Use copies of the original or previous DataFrames to make sure you do not overwrite them by mistake.\n",
    "\n",
    "You will find instructions below about how to define each variable.\n",
    "\n",
    "Once you're happy with your code, upload your notebook to KATE to check your feedback."
   ]
  },
  {
   "cell_type": "markdown",
   "metadata": {},
   "source": [
    "A time series from smart-meters in London is provided from end of 2011 to 2014. The data contains the daily consumption (kWh) averaged over several households in London. \n",
    "\n",
    "The last timestamp for which consumpton is available is January 31st 2014. \n",
    "\n",
    "The aim of this assignment is to build a forecasting model that predicts the consumption for February 2014 (exluding 28th, so from the 1st to the 27th)."
   ]
  },
  {
   "cell_type": "markdown",
   "metadata": {},
   "source": [
    "## Get the data\n",
    "Load the dataset using `.read_csv()` and assign it to a DataFrame, `df`:"
   ]
  },
  {
   "cell_type": "code",
   "execution_count": null,
   "metadata": {},
   "outputs": [],
   "source": [
    "import pandas as pd\n",
    "\n",
    "#df = pd.read_csv(\"data/london_smartmeter_basic.csv\")\n",
    "df = pd.read_csv(\"london_smartmeter_basic.csv\")\n",
    "\n",
    "\n",
    "df.head()"
   ]
  },
  {
   "cell_type": "markdown",
   "metadata": {},
   "source": [
    "## Get Training and Evaluation Time Series\n",
    "\n",
    "Separate the original dataframe into a training set `ts` and evaluation set `ts_eval`.\n",
    "\n",
    "`ts_eval` is the evaluation time series, it contains the list of days you will need to predict consumption for so KATE can evaluate the performance of your model. \n",
    "\n",
    "In the dataframe provided, the column `evaluation_set` determines whether a row is for evaluation or not.\n",
    "\n",
    "Get all the rows for the evaluation set using:\n",
    "\n",
    "```\n",
    "df.loc[df.evaluation_set]\n",
    "```\n",
    "\n",
    "Note, you also need to do the following:\n",
    "* Set the index of the time series to be datetime values based on the column day. You can use `pd.DatetimeIndex()` for this.\n",
    "* Rename the columns `day` to `ds` and `consumption` to  `y` in the dataframe."
   ]
  },
  {
   "cell_type": "code",
   "execution_count": null,
   "metadata": {},
   "outputs": [],
   "source": [
    "def preprocess(df):\n",
    "    \"\"\"This function takes a dataframe and preprocesses it so it is\n",
    "    ready for the training stage.\n",
    "\n",
    "    The DataFrame contains the time axis and the target column.\n",
    "\n",
    "    It also contains some rows for which the target column is unknown.\n",
    "    Those are the observations you will need to predict for KATE\n",
    "    to evaluate the performance of your model.\n",
    "\n",
    "    Here you will need to return the training time series: ts together\n",
    "    with the preprocessed evaluation time serie: ts_eval. You also need\n",
    "    to set the index of the time series to be datetime values based\n",
    "    on the column day. You can use pd.DatetimeIndex() for this.\n",
    "\n",
    "    Make sure you return ts_eval separately! It needs to contain\n",
    "    all the rows for evaluation -- they are marked with the column\n",
    "    evaluation_set. You can easily select them with pandas:\n",
    "\n",
    "         - df.loc[df.evaluation_set]\n",
    "\n",
    "\n",
    "    :param df: the dataset\n",
    "    :type df: pd.DataFrame\n",
    "    :return: ts, ts_eval\n",
    "    \"\"\"\n",
    "raise NotImplementedError"
   ]
  },
  {
   "cell_type": "markdown",
   "metadata": {},
   "source": [
    "Once you have implemented the `preprocess` function, you can call it with `ts, ts_eval = preprocess(df)`:"
   ]
  },
  {
   "cell_type": "code",
   "execution_count": null,
   "metadata": {},
   "outputs": [],
   "source": [
    "# Your code here...\n",
    "#    ts, ts_eval = preprocess(df)\n"
   ]
  },
  {
   "cell_type": "markdown",
   "metadata": {},
   "source": [
    "## Train an AR model\n",
    "\n",
    "Write a function to train an AR model using your train time series `ts`.\n",
    "\n",
    "You can use the module Prophet; do not forget to set the growth and the seasonality parameters. You can also use the  Autoregressive AR(p) model `tsa.ar_model.AutoReg` from the `statsmodels` module to train an AR model.\n",
    "\n",
    "*NOTE*: Since with this project your model will be trained directly on KATE, it is limited to models that can be trained under 1min. You will receive a `TimeoutError` if your model takes too long."
   ]
  },
  {
   "cell_type": "code",
   "execution_count": null,
   "metadata": {},
   "outputs": [],
   "source": [
    "from prophet import Prophet\n",
    "\n",
    "def train(ts):\n",
    "    \"\"\"Trains a new model on ts and returns it.\n",
    "\n",
    "    :param ts: your processed training time serie\n",
    "    :type ts: pd.DataFrame\n",
    "    :return: a trained model\n",
    "    \"\"\"\n",
    "raise NotImplementedError"
   ]
  },
  {
   "cell_type": "markdown",
   "metadata": {},
   "source": [
    "Once you have implemented the `train` function, you can call with with `model = train(ts)`:"
   ]
  },
  {
   "cell_type": "code",
   "execution_count": null,
   "metadata": {},
   "outputs": [],
   "source": [
    "# Your code here...\n",
    "#    model = train(ts)\n"
   ]
  },
  {
   "cell_type": "markdown",
   "metadata": {},
   "source": [
    "## Evaluate Your Model\n",
    "\n",
    "Write a function `predict` that takes the model you have trained as well as a test time series (on KATE this will be the `ts_eval` that you processed above, but you can test this function locally with your own time series). \n",
    "\n",
    "The function should return the predictions on the test set assigned to a variable called `y_pred`.\n"
   ]
  },
  {
   "cell_type": "code",
   "execution_count": null,
   "metadata": {},
   "outputs": [],
   "source": [
    "def predict(model, ts_test):\n",
    "    \"\"\"This functions takes your trained model as well\n",
    "    as a processed test time series and returns predictions.\n",
    "\n",
    "    This should return your predictions either as a pd.DataFrame with one column\n",
    "    or a pd.Series\n",
    "\n",
    "    :param model: your trained model\n",
    "    :param ts_test: a processed test time serie (on KATE it will be ts_eval)\n",
    "    :return: y_pred, your predictions\n",
    "    \"\"\"\n"
   ]
  },
  {
   "cell_type": "markdown",
   "metadata": {},
   "source": [
    "Once implemented, you can check our your predictions by calling predict with `model` and `ts_eval`:"
   ]
  },
  {
   "cell_type": "code",
   "execution_count": null,
   "metadata": {},
   "outputs": [],
   "source": [
    "# Your code here...\n",
    "#    y_pred = predict(model, ts_eval)\n"
   ]
  }
 ],
 "metadata": {
  "kernelspec": {
   "display_name": "base",
   "language": "python",
   "name": "python3"
  },
  "language_info": {
   "codemirror_mode": {
    "name": "ipython",
    "version": 3
   },
   "file_extension": ".py",
   "mimetype": "text/x-python",
   "name": "python",
   "nbconvert_exporter": "python",
   "pygments_lexer": "ipython3",
   "version": "3.12.4"
  }
 },
 "nbformat": 4,
 "nbformat_minor": 4
}
